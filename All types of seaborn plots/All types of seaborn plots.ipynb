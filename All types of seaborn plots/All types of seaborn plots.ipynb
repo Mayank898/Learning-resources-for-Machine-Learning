{
 "cells": [
  {
   "cell_type": "markdown",
   "metadata": {},
   "source": [
    "# Scatter"
   ]
  },
  {
   "cell_type": "code",
   "execution_count": null,
   "metadata": {},
   "outputs": [],
   "source": [
    "# Import Matplotlib and Seaborn\n",
    "import matplotlib.pyplot as plt\n",
    "import seaborn as sns\n",
    "\n",
    "# Change the legend order in the scatter plot\n",
    "sns.scatterplot(x=\"absences\", y=\"G3\", \n",
    "                data=student_data, \n",
    "                hue=\"location\", hue_order=['Rural','Urban'])\n",
    "\n",
    "# Show plot\n",
    "plt.show()"
   ]
  },
  {
   "cell_type": "code",
   "execution_count": null,
   "metadata": {},
   "outputs": [],
   "source": [
    "# Import Matplotlib and Seaborn\n",
    "import matplotlib.pyplot as plt\n",
    "import seaborn as sns\n",
    "\n",
    "# Create a scatter plot of acceleration vs. mpg\n",
    "sns.relplot(x=\"acceleration\", y=\"mpg\", data=mpg, kind=\"scatter\", hue=\"origin\", \n",
    "style=\"origin\")\n",
    "\n",
    "\n",
    "\n",
    "# Show plot\n",
    "plt.show()"
   ]
  },
  {
   "cell_type": "markdown",
   "metadata": {},
   "source": [
    "# Subplots"
   ]
  },
  {
   "cell_type": "code",
   "execution_count": null,
   "metadata": {},
   "outputs": [],
   "source": [
    "# Create a scatter plot of G1 vs. G3\n",
    "sns.relplot(x=\"G1\", y=\"G3\", data=student_data, col=\"schoolsup\", row=\"famsup\", kind=\"scatter\")\n",
    "\n",
    "\n",
    "\n",
    "# Show plot\n",
    "plt.show()"
   ]
  },
  {
   "cell_type": "markdown",
   "metadata": {},
   "source": [
    "# Count "
   ]
  },
  {
   "cell_type": "code",
   "execution_count": null,
   "metadata": {},
   "outputs": [],
   "source": [
    "# Import Matplotlib and Seaborn\n",
    "import matplotlib.pyplot as plt\n",
    "import seaborn as sns\n",
    "\n",
    "# Create a dictionary mapping subgroup values to colors\n",
    "palette_colors = {\"Rural\": \"green\", \"Urban\": \"blue\"}\n",
    "\n",
    "# Create a count plot of school with location subgroups\n",
    "sns.countplot(x=\"school\", data=student_data, hue=\"location\", palette=palette_colors)\n",
    "\n",
    "\n",
    "\n",
    "# Display plot\n",
    "plt.show()"
   ]
  },
  {
   "cell_type": "markdown",
   "metadata": {},
   "source": [
    "# Line Plots "
   ]
  },
  {
   "cell_type": "code",
   "execution_count": null,
   "metadata": {},
   "outputs": [],
   "source": [
    "# Import Matplotlib and Seaborn\n",
    "import matplotlib.pyplot as plt\n",
    "import seaborn as sns\n",
    "\n",
    "# Add markers and make each line have the same style\n",
    "sns.relplot(x=\"model_year\", y=\"horsepower\", \n",
    "            data=mpg, kind=\"line\", \n",
    "            ci=None, style=\"origin\", \n",
    "            hue=\"origin\", markers=True, dashes=False)\n",
    "\n",
    "# Show plot\n",
    "plt.show()"
   ]
  },
  {
   "cell_type": "markdown",
   "metadata": {},
   "source": [
    "# Count and Bar plots"
   ]
  },
  {
   "cell_type": "code",
   "execution_count": null,
   "metadata": {},
   "outputs": [],
   "source": [
    "# Turn off the confidence intervals\n",
    "sns.catplot(x=\"study_time\", y=\"G3\",\n",
    "            data=student_data,\n",
    "            kind=\"bar\",\n",
    "            order=[\"<2 hours\", \n",
    "                   \"2 to 5 hours\", \n",
    "                   \"5 to 10 hours\", \n",
    "                   \">10 hours\"], ci=None)\n",
    "\n",
    "# Show plot\n",
    "plt.show()"
   ]
  },
  {
   "cell_type": "code",
   "execution_count": null,
   "metadata": {},
   "outputs": [],
   "source": [
    "# Set the figure style to \"dark\"\n",
    "sns.set_style(\"dark\")\n",
    "\n",
    "# Adjust to add subplots per gender\n",
    "g = sns.catplot(x=\"Village - town\", y=\"Likes Techno\", \n",
    "                data=survey_data, kind=\"bar\",\n",
    "                col=\"Gender\")\n",
    "\n",
    "# Add title and axis labels\n",
    "g.fig.suptitle(\"Percentage of Young People Who Like Techno\", y=1.02)\n",
    "g.set(xlabel=\"Location of Residence\", \n",
    "       ylabel=\"% Who Like Techno\")\n",
    "\n",
    "# Show plot\n",
    "plt.show()"
   ]
  },
  {
   "cell_type": "markdown",
   "metadata": {},
   "source": [
    "# Box plots"
   ]
  },
  {
   "cell_type": "code",
   "execution_count": null,
   "metadata": {},
   "outputs": [],
   "source": [
    "# Set the whiskers at the min and max values\n",
    "sns.catplot(x=\"romantic\", y=\"G3\",\n",
    "            data=student_data,\n",
    "            kind=\"box\",\n",
    "            whis=[0, 100])\n",
    "\n",
    "# Show plot\n",
    "plt.show()"
   ]
  },
  {
   "cell_type": "markdown",
   "metadata": {},
   "source": [
    "# Point Plots"
   ]
  },
  {
   "cell_type": "code",
   "execution_count": null,
   "metadata": {},
   "outputs": [],
   "source": [
    "# Import median function from numpy\n",
    "from numpy import median\n",
    "\n",
    "# Plot the median number of absences instead of the mean\n",
    "sns.catplot(x=\"romantic\", y=\"absences\",\n",
    "\t\t\tdata=student_data,\n",
    "            kind=\"point\",\n",
    "            hue=\"school\",\n",
    "            ci=None, estimator=median)\n",
    "\n",
    "# Show plot\n",
    "plt.show()"
   ]
  },
  {
   "cell_type": "markdown",
   "metadata": {},
   "source": [
    "# Customizing"
   ]
  },
  {
   "cell_type": "code",
   "execution_count": null,
   "metadata": {},
   "outputs": [],
   "source": [
    "# Set the style to \"darkgrid\"\n",
    "sns.set_style(\"darkgrid\")\n",
    "\n",
    "# Set a custom color palette\n",
    "custom_palette=[\"#39A7D0\", \"#36ADA4\"]\n",
    "sns.set_palette(custom_palette)\n",
    "\n",
    "# Create the box plot of age distribution by gender\n",
    "sns.catplot(x=\"Gender\", y=\"Age\", \n",
    "            data=survey_data, kind=\"box\")\n",
    "\n",
    "# Show plot\n",
    "plt.show()"
   ]
  },
  {
   "cell_type": "code",
   "execution_count": null,
   "metadata": {},
   "outputs": [],
   "source": [
    "# Create point plot\n",
    "sns.catplot(x=\"origin\", \n",
    "            y=\"acceleration\", \n",
    "            data=mpg, \n",
    "            kind=\"point\", \n",
    "            join=False, \n",
    "            capsize=0.1)\n",
    "\n",
    "# Rotate x-tick labels\n",
    "plt.xticks(rotation=90)\n",
    "\n",
    "# Show plot\n",
    "plt.show()"
   ]
  },
  {
   "cell_type": "markdown",
   "metadata": {},
   "source": [
    "# Facetgrid- Relplot"
   ]
  },
  {
   "cell_type": "code",
   "execution_count": null,
   "metadata": {},
   "outputs": [],
   "source": [
    "# Create scatter plot\n",
    "g = sns.relplot(x=\"weight\", \n",
    "                y=\"horsepower\", \n",
    "                data=mpg,\n",
    "                kind=\"scatter\")\n",
    "\n",
    "# Add a title \"Car Weight vs. Horsepower\"\n",
    "g.fig.suptitle(\"Car Weight vs. Horsepower\")\n",
    "\n",
    "# Show plot\n",
    "plt.show()"
   ]
  },
  {
   "cell_type": "markdown",
   "metadata": {},
   "source": [
    "### Facetgrid"
   ]
  },
  {
   "cell_type": "code",
   "execution_count": null,
   "metadata": {},
   "outputs": [],
   "source": [
    "# Create FacetGrid with Degree_Type and specify the order of the rows using row_order\n",
    "g2 = sns.FacetGrid(df, \n",
    "             col=\"Degree_Type\",\n",
    "             row=\"Degree_Type\",\n",
    "             row_order=['Graduate', 'Bachelors', 'Associates', 'Certificate']) \n",
    "\n",
    "# Map a pointplot of SAT_AVG_ALL onto the grid\n",
    "g2.map(sns.pointplot, 'SAT_AVG_ALL')\n",
    "\n",
    "# Show the plot\n",
    "plt.show()\n",
    "plt.clf()"
   ]
  },
  {
   "cell_type": "markdown",
   "metadata": {},
   "source": [
    "# Distplot"
   ]
  },
  {
   "cell_type": "code",
   "execution_count": null,
   "metadata": {},
   "outputs": [],
   "source": [
    "# Create a distplot of the Award Amount\n",
    "sns.distplot(df['Award_Amount'],\n",
    "             hist=False,\n",
    "             rug=True,\n",
    "             kde_kws={'shade':True})\n",
    "\n",
    "# Plot the results\n",
    "plt.show()"
   ]
  },
  {
   "cell_type": "markdown",
   "metadata": {},
   "source": [
    "# Regression plots and Lmplots"
   ]
  },
  {
   "cell_type": "code",
   "execution_count": null,
   "metadata": {},
   "outputs": [],
   "source": [
    "# Create a regression plot of premiums vs. insurance_losses\n",
    "sns.regplot(x=\"insurance_losses\", y=\"premiums\", data=df)\n",
    "\n",
    "\n",
    "\n",
    "# Display the plot\n",
    "plt.show()\n",
    "\n"
   ]
  },
  {
   "cell_type": "code",
   "execution_count": null,
   "metadata": {},
   "outputs": [],
   "source": [
    "# Create a regression plot using hue\n",
    "sns.lmplot(data=df,\n",
    "           x=\"insurance_losses\",\n",
    "           y=\"premiums\",\n",
    "           hue=\"Region\")\n",
    "\n",
    "# Show the results\n",
    "plt.show()"
   ]
  },
  {
   "cell_type": "code",
   "execution_count": null,
   "metadata": {},
   "outputs": [],
   "source": [
    "# Create a regression plot with multiple rows\n",
    "sns.lmplot(data=df,\n",
    "           x=\"insurance_losses\",\n",
    "           y=\"premiums\",\n",
    "           row=\"Region\")\n",
    "\n",
    "# Show the plot\n",
    "plt.show()"
   ]
  },
  {
   "cell_type": "code",
   "execution_count": null,
   "metadata": {},
   "outputs": [],
   "source": [
    "# The final plot should include a line using a 2nd order polynomial\n",
    "sns.regplot(data=df,\n",
    "            y='Tuition',\n",
    "            x=\"PCTPELL\",\n",
    "            x_bins=5,\n",
    "            order=2)\n",
    "\n",
    "plt.show()\n",
    "plt.clf()"
   ]
  },
  {
   "cell_type": "markdown",
   "metadata": {},
   "source": [
    "# More Customization"
   ]
  },
  {
   "cell_type": "code",
   "execution_count": null,
   "metadata": {},
   "outputs": [],
   "source": [
    "# Create a figure and axes\n",
    "fig, ax = plt.subplots()\n",
    "\n",
    "# Plot the distribution of 1 bedroom rents\n",
    "sns.distplot(df['fmr_1'], ax=ax)\n",
    "\n",
    "# Modify the properties of the plot\n",
    "ax.set(xlabel=\"1 Bedroom Fair Market Rent\",\n",
    "       xlim=(100,1500),\n",
    "       title=\"US Rent\")\n",
    "\n",
    "# Display the plot\n",
    "plt.show()"
   ]
  },
  {
   "cell_type": "code",
   "execution_count": null,
   "metadata": {},
   "outputs": [],
   "source": [
    "# Create a figure and axes. Then plot the data\n",
    "fig, ax = plt.subplots()\n",
    "sns.distplot(df['fmr_1'], ax=ax)\n",
    "\n",
    "# Customize the labels and limits\n",
    "ax.set(xlabel=\"1 Bedroom Fair Market Rent\", xlim=(100,1500), title=\"US Rent\")\n",
    "\n",
    "# Add vertical lines for the median and mean\n",
    "ax.axvline(x=df['fmr_1'].median(), color='m', label='Median', linestyle='--', linewidth=2)\n",
    "ax.axvline(x=df['fmr_1'].mean(), color='b', label='Mean', linestyle='-', linewidth=2)\n",
    "\n",
    "# Show the legend and plot the data\n",
    "ax.legend()\n",
    "plt.show()"
   ]
  },
  {
   "cell_type": "code",
   "execution_count": null,
   "metadata": {},
   "outputs": [],
   "source": [
    "# Loop through differences between bright and colorblind palettes\n",
    "for p in ['bright', 'colorblind']:\n",
    "    sns.set_palette(p)\n",
    "    sns.distplot(df['fmr_3'])\n",
    "    plt.show()\n",
    "    \n",
    "    # Clear the plots    \n",
    "    plt.clf()"
   ]
  },
  {
   "cell_type": "markdown",
   "metadata": {},
   "source": [
    "# Catplot Types- Box, Violin, Lvplot, bar, point, countplots, strip, swarm"
   ]
  },
  {
   "cell_type": "code",
   "execution_count": null,
   "metadata": {},
   "outputs": [],
   "source": [
    "# Create a violinplot with the husl palette\n",
    "sns.violinplot(data=df,\n",
    "         x='Award_Amount',\n",
    "         y='Model Selected',\n",
    "         palette='husl')\n",
    "\n",
    "plt.show()\n",
    "plt.clf()"
   ]
  },
  {
   "cell_type": "markdown",
   "metadata": {},
   "source": [
    "# Heatmaps"
   ]
  },
  {
   "cell_type": "code",
   "execution_count": null,
   "metadata": {},
   "outputs": [],
   "source": [
    "# Create the crosstab DataFrame\n",
    "pd_crosstab = pd.crosstab(df[\"Group\"], df[\"YEAR\"])\n",
    "\n",
    "# Plot a heatmap of the table with no color bar and using the BuGn palette\n",
    "sns.heatmap(pd_crosstab, cbar=False, cmap=\"BuGn\", linewidths=.3)\n",
    "\n",
    "# Rotate tick marks for visibility\n",
    "plt.yticks(rotation=0)\n",
    "plt.xticks(rotation=90)\n",
    "\n",
    "#Show the plot\n",
    "plt.show()\n",
    "plt.clf()"
   ]
  },
  {
   "cell_type": "code",
   "execution_count": null,
   "metadata": {},
   "outputs": [],
   "source": []
  },
  {
   "cell_type": "code",
   "execution_count": null,
   "metadata": {},
   "outputs": [],
   "source": []
  },
  {
   "cell_type": "code",
   "execution_count": null,
   "metadata": {},
   "outputs": [],
   "source": []
  }
 ],
 "metadata": {
  "kernelspec": {
   "display_name": "Python 3",
   "language": "python",
   "name": "python3"
  },
  "language_info": {
   "codemirror_mode": {
    "name": "ipython",
    "version": 3
   },
   "file_extension": ".py",
   "mimetype": "text/x-python",
   "name": "python",
   "nbconvert_exporter": "python",
   "pygments_lexer": "ipython3",
   "version": "3.7.7"
  }
 },
 "nbformat": 4,
 "nbformat_minor": 4
}
