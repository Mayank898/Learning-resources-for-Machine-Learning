{
 "cells": [
  {
   "cell_type": "markdown",
   "metadata": {},
   "source": [
    "# Clustering"
   ]
  },
  {
   "cell_type": "markdown",
   "metadata": {},
   "source": [
    "# Clustering 2D points"
   ]
  },
  {
   "cell_type": "code",
   "execution_count": null,
   "metadata": {},
   "outputs": [],
   "source": [
    "# Import KMeans\n",
    "from sklearn.cluster import KMeans\n",
    "\n",
    "# Create a KMeans instance with 3 clusters: model\n",
    "model = KMeans(n_clusters=3)\n",
    "\n",
    "# Fit model to points\n",
    "model.fit(points)\n",
    "\n",
    "# Determine the cluster labels of new_points: labels\n",
    "labels = model.predict(new_points)\n",
    "\n",
    "# Print cluster labels of new_points\n",
    "print(labels)\n"
   ]
  },
  {
   "cell_type": "markdown",
   "metadata": {},
   "source": [
    "# Inspect your clustering"
   ]
  },
  {
   "cell_type": "code",
   "execution_count": null,
   "metadata": {},
   "outputs": [],
   "source": [
    "# Import pyplot\n",
    "import matplotlib.pyplot as plt\n",
    "\n",
    "# Assign the columns of new_points: xs and ys\n",
    "xs = new_points[:,0]\n",
    "ys = new_points[:,1]\n",
    "\n",
    "# Make a scatter plot of xs and ys, using labels to define the colors\n",
    "plt.scatter(xs, ys, c=labels, alpha=0.5)\n",
    "\n",
    "# Assign the cluster centers: centroids\n",
    "centroids = model.cluster_centers_\n",
    "\n",
    "# Assign the columns of centroids: centroids_x, centroids_y\n",
    "centroids_x = centroids[:,0]\n",
    "centroids_y = centroids[:,1]\n",
    "\n",
    "# Make a scatter plot of centroids_x and centroids_y\n",
    "plt.scatter(centroids_x, centroids_y, marker='D', s=50)\n",
    "plt.show()\n"
   ]
  },
  {
   "cell_type": "markdown",
   "metadata": {},
   "source": [
    "# How many clusters"
   ]
  },
  {
   "cell_type": "markdown",
   "metadata": {},
   "source": [
    "### Here we are going to plot an inertia plot.\n",
    "### Inertia- Distance of the points from the centroid of the cluster. (lower the value, better the cluster)\n",
    "### We look for the 'elbow' in the inertia graph to better recognize clusters.\n",
    "### When the rate of decrease becomes very low (sudden change in the line plot of inertia)"
   ]
  },
  {
   "cell_type": "code",
   "execution_count": 11,
   "metadata": {},
   "outputs": [],
   "source": [
    "import pandas as pd\n",
    "import matplotlib.pyplot as plt\n",
    "import numpy as np\n",
    "from sklearn.cluster import KMeans"
   ]
  },
  {
   "cell_type": "code",
   "execution_count": 12,
   "metadata": {},
   "outputs": [],
   "source": [
    "samples= np.array([[ 242. ,   23.2,   25.4,   30. ,   38.4,   13.4],\n",
    "       [ 290. ,   24. ,   26.3,   31.2,   40. ,   13.8],\n",
    "       [ 340. ,   23.9,   26.5,   31.1,   39.8,   15.1],\n",
    "       [ 363. ,   26.3,   29. ,   33.5,   38. ,   13.3],\n",
    "       [ 430. ,   26.5,   29. ,   34. ,   36.6,   15.1],\n",
    "       [ 450. ,   26.8,   29.7,   34.7,   39.2,   14.2],\n",
    "       [ 500. ,   26.8,   29.7,   34.5,   41.1,   15.3],\n",
    "       [ 390. ,   27.6,   30. ,   35. ,   36.2,   13.4],\n",
    "       [ 450. ,   27.6,   30. ,   35.1,   39.9,   13.8],\n",
    "       [ 500. ,   28.5,   30.7,   36.2,   39.3,   13.7],\n",
    "       [ 475. ,   28.4,   31. ,   36.2,   39.4,   14.1],\n",
    "       [ 500. ,   28.7,   31. ,   36.2,   39.7,   13.3],\n",
    "       [ 500. ,   29.1,   31.5,   36.4,   37.8,   12. ],\n",
    "       [ 600. ,   29.4,   32. ,   37.2,   40.2,   13.9],\n",
    "       [ 600. ,   29.4,   32. ,   37.2,   41.5,   15. ],\n",
    "       [ 700. ,   30.4,   33. ,   38.3,   38.8,   13.8],\n",
    "       [ 700. ,   30.4,   33. ,   38.5,   38.8,   13.5],\n",
    "       [ 610. ,   30.9,   33.5,   38.6,   40.5,   13.3],\n",
    "       [ 650. ,   31. ,   33.5,   38.7,   37.4,   14.8],\n",
    "       [ 575. ,   31.3,   34. ,   39.5,   38.3,   14.1],\n",
    "       [ 685. ,   31.4,   34. ,   39.2,   40.8,   13.7],\n",
    "       [ 620. ,   31.5,   34.5,   39.7,   39.1,   13.3],\n",
    "       [ 680. ,   31.8,   35. ,   40.6,   38.1,   15.1],\n",
    "       [ 700. ,   31.9,   35. ,   40.5,   40.1,   13.8],\n",
    "       [ 725. ,   31.8,   35. ,   40.9,   40. ,   14.8],\n",
    "       [ 720. ,   32. ,   35. ,   40.6,   40.3,   15. ],\n",
    "       [ 714. ,   32.7,   36. ,   41.5,   39.8,   14.1],\n",
    "       [ 850. ,   32.8,   36. ,   41.6,   40.6,   14.9],\n",
    "       [1000. ,   33.5,   37. ,   42.6,   44.5,   15.5],\n",
    "       [ 920. ,   35. ,   38.5,   44.1,   40.9,   14.3],\n",
    "       [ 955. ,   35. ,   38.5,   44. ,   41.1,   14.3],\n",
    "       [ 925. ,   36.2,   39.5,   45.3,   41.4,   14.9],\n",
    "       [ 975. ,   37.4,   41. ,   45.9,   40.6,   14.7],\n",
    "       [ 950. ,   38. ,   41. ,   46.5,   37.9,   13.7],\n",
    "       [  40. ,   12.9,   14.1,   16.2,   25.6,   14. ],\n",
    "       [  69. ,   16.5,   18.2,   20.3,   26.1,   13.9],\n",
    "       [  78. ,   17.5,   18.8,   21.2,   26.3,   13.7],\n",
    "       [  87. ,   18.2,   19.8,   22.2,   25.3,   14.3],\n",
    "       [ 120. ,   18.6,   20. ,   22.2,   28. ,   16.1],\n",
    "       [   0. ,   19. ,   20.5,   22.8,   28.4,   14.7],\n",
    "       [ 110. ,   19.1,   20.8,   23.1,   26.7,   14.7],\n",
    "       [ 120. ,   19.4,   21. ,   23.7,   25.8,   13.9],\n",
    "       [ 150. ,   20.4,   22. ,   24.7,   23.5,   15.2],\n",
    "       [ 145. ,   20.5,   22. ,   24.3,   27.3,   14.6],\n",
    "       [ 160. ,   20.5,   22.5,   25.3,   27.8,   15.1],\n",
    "       [ 140. ,   21. ,   22.5,   25. ,   26.2,   13.3],\n",
    "       [ 160. ,   21.1,   22.5,   25. ,   25.6,   15.2],\n",
    "       [ 169. ,   22. ,   24. ,   27.2,   27.7,   14.1],\n",
    "       [ 161. ,   22. ,   23.4,   26.7,   25.9,   13.6],\n",
    "       [ 200. ,   22.1,   23.5,   26.8,   27.6,   15.4],\n",
    "       [ 180. ,   23.6,   25.2,   27.9,   25.4,   14. ],\n",
    "       [ 290. ,   24. ,   26. ,   29.2,   30.4,   15.4],\n",
    "       [ 272. ,   25. ,   27. ,   30.6,   28. ,   15.6],\n",
    "       [ 390. ,   29.5,   31.7,   35. ,   27.1,   15.3],\n",
    "       [   6.7,    9.3,    9.8,   10.8,   16.1,    9.7],\n",
    "       [   7.5,   10. ,   10.5,   11.6,   17. ,   10. ],\n",
    "       [   7. ,   10.1,   10.6,   11.6,   14.9,    9.9],\n",
    "       [   9.7,   10.4,   11. ,   12. ,   18.3,   11.5],\n",
    "       [   9.8,   10.7,   11.2,   12.4,   16.8,   10.3],\n",
    "       [   8.7,   10.8,   11.3,   12.6,   15.7,   10.2],\n",
    "       [  10. ,   11.3,   11.8,   13.1,   16.9,    9.8],\n",
    "       [   9.9,   11.3,   11.8,   13.1,   16.9,    8.9],\n",
    "       [   9.8,   11.4,   12. ,   13.2,   16.7,    8.7],\n",
    "       [  12.2,   11.5,   12.2,   13.4,   15.6,   10.4],\n",
    "       [  13.4,   11.7,   12.4,   13.5,   18. ,    9.4],\n",
    "       [  12.2,   12.1,   13. ,   13.8,   16.5,    9.1],\n",
    "       [  19.7,   13.2,   14.3,   15.2,   18.9,   13.6],\n",
    "       [  19.9,   13.8,   15. ,   16.2,   18.1,   11.6],\n",
    "       [ 200. ,   30. ,   32.3,   34.8,   16. ,    9.7],\n",
    "       [ 300. ,   31.7,   34. ,   37.8,   15.1,   11. ],\n",
    "       [ 300. ,   32.7,   35. ,   38.8,   15.3,   11.3],\n",
    "       [ 300. ,   34.8,   37.3,   39.8,   15.8,   10.1],\n",
    "       [ 430. ,   35.5,   38. ,   40.5,   18. ,   11.3],\n",
    "       [ 345. ,   36. ,   38.5,   41. ,   15.6,    9.7],\n",
    "       [ 456. ,   40. ,   42.5,   45.5,   16. ,    9.5],\n",
    "       [ 510. ,   40. ,   42.5,   45.5,   15. ,    9.8],\n",
    "       [ 540. ,   40.1,   43. ,   45.8,   17. ,   11.2],\n",
    "       [ 500. ,   42. ,   45. ,   48. ,   14.5,   10.2],\n",
    "       [ 567. ,   43.2,   46. ,   48.7,   16. ,   10. ],\n",
    "       [ 770. ,   44.8,   48. ,   51.2,   15. ,   10.5],\n",
    "       [ 950. ,   48.3,   51.7,   55.1,   16.2,   11.2],\n",
    "       [1250. ,   52. ,   56. ,   59.7,   17.9,   11.7],\n",
    "       [1600. ,   56. ,   60. ,   64. ,   15. ,    9.6],\n",
    "       [1550. ,   56. ,   60. ,   64. ,   15. ,    9.6],\n",
    "       [1650. ,   59. ,   63.4,   68. ,   15.9,   11. ]])"
   ]
  },
  {
   "cell_type": "code",
   "execution_count": 21,
   "metadata": {},
   "outputs": [],
   "source": [
    "species= np.array(['Bream',\n",
    " 'Bream',\n",
    " 'Bream',\n",
    " 'Bream',\n",
    " 'Bream',\n",
    " 'Bream',\n",
    " 'Bream',\n",
    " 'Bream',\n",
    " 'Bream',\n",
    " 'Bream',\n",
    " 'Bream',\n",
    " 'Bream',\n",
    " 'Bream',\n",
    " 'Bream',\n",
    " 'Bream',\n",
    " 'Bream',\n",
    " 'Bream',\n",
    " 'Bream',\n",
    " 'Bream',\n",
    " 'Bream',\n",
    " 'Bream',\n",
    " 'Bream',\n",
    " 'Bream',\n",
    " 'Bream',\n",
    " 'Bream',\n",
    " 'Bream',\n",
    " 'Bream',\n",
    " 'Bream',\n",
    " 'Bream',\n",
    " 'Bream',\n",
    " 'Bream',\n",
    " 'Bream',\n",
    " 'Bream',\n",
    " 'Bream',\n",
    " 'Roach',\n",
    " 'Roach',\n",
    " 'Roach',\n",
    " 'Roach',\n",
    " 'Roach',\n",
    " 'Roach',\n",
    " 'Roach',\n",
    " 'Roach',\n",
    " 'Roach',\n",
    " 'Roach',\n",
    " 'Roach',\n",
    " 'Roach',\n",
    " 'Roach',\n",
    " 'Roach',\n",
    " 'Roach',\n",
    " 'Roach',\n",
    " 'Roach',\n",
    " 'Roach',\n",
    " 'Roach',\n",
    " 'Roach',\n",
    " 'Smelt',\n",
    " 'Smelt',\n",
    " 'Smelt',\n",
    " 'Smelt',\n",
    " 'Smelt',\n",
    " 'Smelt',\n",
    " 'Smelt',\n",
    " 'Smelt',\n",
    " 'Smelt',\n",
    " 'Smelt',\n",
    " 'Smelt',\n",
    " 'Smelt',\n",
    " 'Smelt',\n",
    " 'Smelt',\n",
    " 'Pike',\n",
    " 'Pike',\n",
    " 'Pike',\n",
    " 'Pike',\n",
    " 'Pike',\n",
    " 'Pike',\n",
    " 'Pike',\n",
    " 'Pike',\n",
    " 'Pike',\n",
    " 'Pike',\n",
    " 'Pike',\n",
    " 'Pike',\n",
    " 'Pike',\n",
    " 'Pike',\n",
    " 'Pike',\n",
    " 'Pike',\n",
    " 'Pike'])"
   ]
  },
  {
   "cell_type": "code",
   "execution_count": 22,
   "metadata": {},
   "outputs": [
    {
     "data": {
      "image/png": "[encoded data removed]",
      "text/plain": [
       "<Figure size 432x288 with 1 Axes>"
      ]
     },
     "metadata": {
      "needs_background": "light"
     },
     "output_type": "display_data"
    }
   ],
   "source": [
    "ks = range(1, 6)\n",
    "inertias = []\n",
    "\n",
    "for k in ks:\n",
    "    # Create a KMeans instance with k clusters: model\n",
    "    model= KMeans(n_clusters=k)\n",
    "    \n",
    "    # Fit model to samples\n",
    "    model.fit(samples)\n",
    "    \n",
    "    # Append the inertia to the list of inertias\n",
    "    inertias.append(model.inertia_)\n",
    "    \n",
    "# Plot ks vs inertias\n",
    "plt.plot(ks, inertias, '-o') \n",
    "plt.xlabel('number of clusters, k')\n",
    "plt.ylabel('inertia')\n",
    "plt.xticks(ks)\n",
    "plt.show()\n",
    "\n",
    "# 3 clusters look optimal"
   ]
  },
  {
   "cell_type": "markdown",
   "metadata": {},
   "source": [
    "# Evaluating the clustering"
   ]
  },
  {
   "cell_type": "code",
   "execution_count": null,
   "metadata": {},
   "outputs": [],
   "source": [
    "# Create a KMeans model with 3 clusters: model\n",
    "model = KMeans(n_clusters=3)\n",
    "\n",
    "# Use fit_predict to fit model and obtain cluster labels: labels\n",
    "labels = model.fit_predict(samples)  # same as using .fit() followed by .predict()\n",
    "\n",
    "# Create a DataFrame with labels and varieties as columns: df\n",
    "df = pd.DataFrame({'labels': labels, 'varieties': varieties})\n",
    "\n",
    "# Create crosstab: ct\n",
    "ct = pd.crosstab(df['labels'],df['varieties'])\n",
    "\n",
    "# Display ct\n",
    "print(ct)"
   ]
  },
  {
   "cell_type": "markdown",
   "metadata": {},
   "source": [
    "# Scaling data for clustering"
   ]
  },
  {
   "cell_type": "code",
   "execution_count": 31,
   "metadata": {},
   "outputs": [],
   "source": [
    "# Perform the necessary imports\n",
    "from sklearn.preprocessing import StandardScaler\n",
    "from sklearn.cluster import KMeans\n",
    "from sklearn.pipeline import make_pipeline"
   ]
  },
  {
   "cell_type": "code",
   "execution_count": 32,
   "metadata": {},
   "outputs": [],
   "source": [
    "# Create scaler: scaler\n",
    "scaler = StandardScaler()\n",
    "\n",
    "# Create KMeans instance: kmeans\n",
    "kmeans = KMeans(n_clusters=4)\n",
    "\n",
    "# Create pipeline: pipeline\n",
    "pipeline = make_pipeline(scaler,kmeans)\n"
   ]
  },
  {
   "cell_type": "markdown",
   "metadata": {},
   "source": [
    "# Clustering the fish data"
   ]
  },
  {
   "cell_type": "code",
   "execution_count": 33,
   "metadata": {},
   "outputs": [
    {
     "name": "stdout",
     "output_type": "stream",
     "text": [
      "species  Bream  Pike  Roach  Smelt\n",
      "labels                            \n",
      "0           33     0      1      0\n",
      "1            0     0      0     13\n",
      "2            1     0     19      1\n",
      "3            0    17      0      0\n"
     ]
    }
   ],
   "source": [
    "# Import pandas\n",
    "import pandas as pd\n",
    "\n",
    "# Fit the pipeline to samples\n",
    "pipeline.fit(samples)\n",
    "\n",
    "# Calculate the cluster labels: labels\n",
    "labels = pipeline.predict(samples)\n",
    "\n",
    "# Create a DataFrame with labels and species as columns: df\n",
    "df = pd.DataFrame({'labels': labels, 'species':species})\n",
    "\n",
    "# Create crosstab: ct\n",
    "ct = pd.crosstab(df['labels'], df['species'])\n",
    "\n",
    "# Display ct\n",
    "print(ct)\n"
   ]
  },
  {
   "cell_type": "markdown",
   "metadata": {},
   "source": [
    "# Clustering stocks using KMeans"
   ]
  },
  {
   "cell_type": "markdown",
   "metadata": {},
   "source": [
    "### Some stocks are more expensive than others. To account for this, include a Normalizer at the beginning of your pipeline. The Normalizer will separately transform each company's stock price to a relative scale before the clustering begins.\n",
    "### Note that Normalizer() is different to StandardScaler(), which you used in the previous exercise. While StandardScaler() standardizes features (such as the features of the fish data from the previous exercise) by removing the mean and scaling to unit variance, Normalizer() rescales each sample - here, each company's stock price - independently of the other."
   ]
  },
  {
   "cell_type": "code",
   "execution_count": null,
   "metadata": {},
   "outputs": [],
   "source": [
    "# Import Normalizer\n",
    "from sklearn.preprocessing import Normalizer\n",
    "\n",
    "# Create a normalizer: normalizer\n",
    "normalizer = Normalizer()\n",
    "\n",
    "# Create a KMeans model with 10 clusters: kmeans\n",
    "kmeans = KMeans(n_clusters=10)\n",
    "\n",
    "# Make a pipeline chaining normalizer and kmeans: pipeline\n",
    "pipeline = make_pipeline(normalizer, kmeans)\n",
    "\n",
    "# Fit pipeline to the daily price movements\n",
    "pipeline.fit(movements)\n"
   ]
  },
  {
   "cell_type": "markdown",
   "metadata": {},
   "source": [
    "# Which stocks move together?"
   ]
  },
  {
   "cell_type": "code",
   "execution_count": null,
   "metadata": {},
   "outputs": [],
   "source": [
    "# Import pandas\n",
    "import pandas as pd\n",
    "\n",
    "# Predict the cluster labels: labels\n",
    "labels = pipeline.predict(movements)\n",
    "\n",
    "# Create a DataFrame aligning labels and companies: df\n",
    "df = pd.DataFrame({'labels': labels, 'companies': companies})\n",
    "\n",
    "# Display df sorted by cluster label\n",
    "print(df.sort_values(by='labels'))\n"
   ]
  },
  {
   "cell_type": "markdown",
   "metadata": {},
   "source": [
    "# Hierarchical clustering of the grain data"
   ]
  },
  {
   "cell_type": "code",
   "execution_count": 43,
   "metadata": {},
   "outputs": [],
   "source": [
    "samples=np.array([[14.88  , 14.57  ,  0.8811,  5.554 ,  3.333 ,  1.018 ,  4.956 ],\n",
    "       [14.69  , 14.49  ,  0.8799,  5.563 ,  3.259 ,  3.586 ,  5.219 ],\n",
    "       [14.03  , 14.16  ,  0.8796,  5.438 ,  3.201 ,  1.717 ,  5.001 ],\n",
    "       [13.99  , 13.83  ,  0.9183,  5.119 ,  3.383 ,  5.234 ,  4.781 ],\n",
    "       [14.11  , 14.26  ,  0.8722,  5.52  ,  3.168 ,  2.688 ,  5.219 ],\n",
    "       [13.02  , 13.76  ,  0.8641,  5.395 ,  3.026 ,  3.373 ,  4.825 ],\n",
    "       [15.49  , 14.94  ,  0.8724,  5.757 ,  3.371 ,  3.412 ,  5.228 ],\n",
    "       [16.2   , 15.27  ,  0.8734,  5.826 ,  3.464 ,  2.823 ,  5.527 ],\n",
    "       [13.5   , 13.85  ,  0.8852,  5.351 ,  3.158 ,  2.249 ,  5.176 ],\n",
    "       [15.36  , 14.76  ,  0.8861,  5.701 ,  3.393 ,  1.367 ,  5.132 ],\n",
    "       [15.78  , 14.91  ,  0.8923,  5.674 ,  3.434 ,  5.593 ,  5.136 ],\n",
    "       [14.46  , 14.35  ,  0.8818,  5.388 ,  3.377 ,  2.802 ,  5.044 ],\n",
    "       [11.23  , 12.63  ,  0.884 ,  4.902 ,  2.879 ,  2.269 ,  4.703 ],\n",
    "       [14.34  , 14.37  ,  0.8726,  5.63  ,  3.19  ,  1.313 ,  5.15  ],\n",
    "       [16.84  , 15.67  ,  0.8623,  5.998 ,  3.484 ,  4.675 ,  5.877 ],\n",
    "       [17.32  , 15.91  ,  0.8599,  6.064 ,  3.403 ,  3.824 ,  5.922 ],\n",
    "       [18.72  , 16.19  ,  0.8977,  6.006 ,  3.857 ,  5.324 ,  5.879 ],\n",
    "       [18.88  , 16.26  ,  0.8969,  6.084 ,  3.764 ,  1.649 ,  6.109 ],\n",
    "       [18.76  , 16.2   ,  0.8984,  6.172 ,  3.796 ,  3.12  ,  6.053 ],\n",
    "       [19.31  , 16.59  ,  0.8815,  6.341 ,  3.81  ,  3.477 ,  6.238 ],\n",
    "       [17.99  , 15.86  ,  0.8992,  5.89  ,  3.694 ,  2.068 ,  5.837 ],\n",
    "       [18.85  , 16.17  ,  0.9056,  6.152 ,  3.806 ,  2.843 ,  6.2   ],\n",
    "       [19.38  , 16.72  ,  0.8716,  6.303 ,  3.791 ,  3.678 ,  5.965 ],\n",
    "       [18.96  , 16.2   ,  0.9077,  6.051 ,  3.897 ,  4.334 ,  5.75  ],\n",
    "       [18.14  , 16.12  ,  0.8772,  6.059 ,  3.563 ,  3.619 ,  6.011 ],\n",
    "       [18.65  , 16.41  ,  0.8698,  6.285 ,  3.594 ,  4.391 ,  6.102 ],\n",
    "       [18.94  , 16.32  ,  0.8942,  6.144 ,  3.825 ,  2.908 ,  5.949 ],\n",
    "       [17.36  , 15.76  ,  0.8785,  6.145 ,  3.574 ,  3.526 ,  5.971 ],\n",
    "       [13.32  , 13.94  ,  0.8613,  5.541 ,  3.073 ,  7.035 ,  5.44  ],\n",
    "       [11.43  , 13.13  ,  0.8335,  5.176 ,  2.719 ,  2.221 ,  5.132 ],\n",
    "       [12.01  , 13.52  ,  0.8249,  5.405 ,  2.776 ,  6.992 ,  5.27  ],\n",
    "       [11.34  , 12.87  ,  0.8596,  5.053 ,  2.849 ,  3.347 ,  5.003 ],\n",
    "       [12.02  , 13.33  ,  0.8503,  5.35  ,  2.81  ,  4.271 ,  5.308 ],\n",
    "       [12.44  , 13.59  ,  0.8462,  5.319 ,  2.897 ,  4.924 ,  5.27  ],\n",
    "       [11.55  , 13.1   ,  0.8455,  5.167 ,  2.845 ,  6.715 ,  4.956 ],\n",
    "       [11.26  , 13.01  ,  0.8355,  5.186 ,  2.71  ,  5.335 ,  5.092 ],\n",
    "       [12.46  , 13.41  ,  0.8706,  5.236 ,  3.017 ,  4.987 ,  5.147 ],\n",
    "       [11.81  , 13.45  ,  0.8198,  5.413 ,  2.716 ,  4.898 ,  5.352 ],\n",
    "       [11.27  , 12.86  ,  0.8563,  5.091 ,  2.804 ,  3.985 ,  5.001 ],\n",
    "       [12.79  , 13.53  ,  0.8786,  5.224 ,  3.054 ,  5.483 ,  4.958 ],\n",
    "       [12.67  , 13.32  ,  0.8977,  4.984 ,  3.135 ,  2.3   ,  4.745 ],\n",
    "       [11.23  , 12.88  ,  0.8511,  5.14  ,  2.795 ,  4.325 ,  5.003 ]])"
   ]
  },
  {
   "cell_type": "code",
   "execution_count": 44,
   "metadata": {},
   "outputs": [],
   "source": [
    "varieties= ['Kama wheat',\n",
    " 'Kama wheat',\n",
    " 'Kama wheat',\n",
    " 'Kama wheat',\n",
    " 'Kama wheat',\n",
    " 'Kama wheat',\n",
    " 'Kama wheat',\n",
    " 'Kama wheat',\n",
    " 'Kama wheat',\n",
    " 'Kama wheat',\n",
    " 'Kama wheat',\n",
    " 'Kama wheat',\n",
    " 'Kama wheat',\n",
    " 'Kama wheat',\n",
    " 'Rosa wheat',\n",
    " 'Rosa wheat',\n",
    " 'Rosa wheat',\n",
    " 'Rosa wheat',\n",
    " 'Rosa wheat',\n",
    " 'Rosa wheat',\n",
    " 'Rosa wheat',\n",
    " 'Rosa wheat',\n",
    " 'Rosa wheat',\n",
    " 'Rosa wheat',\n",
    " 'Rosa wheat',\n",
    " 'Rosa wheat',\n",
    " 'Rosa wheat',\n",
    " 'Rosa wheat',\n",
    " 'Canadian wheat',\n",
    " 'Canadian wheat',\n",
    " 'Canadian wheat',\n",
    " 'Canadian wheat',\n",
    " 'Canadian wheat',\n",
    " 'Canadian wheat',\n",
    " 'Canadian wheat',\n",
    " 'Canadian wheat',\n",
    " 'Canadian wheat',\n",
    " 'Canadian wheat',\n",
    " 'Canadian wheat',\n",
    " 'Canadian wheat',\n",
    " 'Canadian wheat',\n",
    " 'Canadian wheat']"
   ]
  },
  {
   "cell_type": "code",
   "execution_count": 45,
   "metadata": {},
   "outputs": [
    {
     "data": {
      "image/png": "[encoded data removed]",
      "text/plain": [
       "<Figure size 432x288 with 1 Axes>"
      ]
     },
     "metadata": {
      "needs_background": "light"
     },
     "output_type": "display_data"
    }
   ],
   "source": [
    "# Perform the necessary imports\n",
    "from scipy.cluster.hierarchy import linkage, dendrogram\n",
    "import matplotlib.pyplot as plt\n",
    "\n",
    "# Calculate the linkage: mergings\n",
    "mergings = linkage(samples, method='complete')\n",
    "\n",
    "# Plot the dendrogram, using varieties as labels\n",
    "dendrogram(mergings,\n",
    "           labels=varieties,\n",
    "           leaf_rotation=90,\n",
    "           leaf_font_size=6,\n",
    ")\n",
    "plt.show()"
   ]
  },
  {
   "cell_type": "markdown",
   "metadata": {},
   "source": [
    "# Hierarchies of stocks"
   ]
  },
  {
   "cell_type": "markdown",
   "metadata": {},
   "source": [
    "### SciPy hierarchical clustering doesn't fit into a sklearn pipeline, so you'll need to use the normalize() function from sklearn.preprocessing instead of Normalizer."
   ]
  },
  {
   "cell_type": "code",
   "execution_count": null,
   "metadata": {},
   "outputs": [],
   "source": [
    "# Import normalize\n",
    "from sklearn.preprocessing import normalize\n",
    "\n",
    "# Normalize the movements: normalized_movements\n",
    "normalized_movements = normalize(movements)\n",
    "\n",
    "# Calculate the linkage: mergings\n",
    "mergings = linkage(normalized_movements, method='complete')\n",
    "\n",
    "# Plot the dendrogram\n",
    "dendrogram(mergings, labels=companies, leaf_rotation=90, leaf_font_size=6 )\n",
    "plt.show()"
   ]
  },
  {
   "cell_type": "markdown",
   "metadata": {},
   "source": [
    "#### You learned that the linkage method defines how the distance between clusters is measured. In complete linkage, the distance between clusters is the distance between the furthest points of the clusters. In single linkage, the distance between clusters is the distance between the closest points of the clusters."
   ]
  },
  {
   "cell_type": "markdown",
   "metadata": {},
   "source": [
    "# Single linkage hierarchical clustering"
   ]
  },
  {
   "cell_type": "code",
   "execution_count": null,
   "metadata": {},
   "outputs": [],
   "source": [
    "# Perform the necessary imports\n",
    "import matplotlib.pyplot as plt\n",
    "from scipy.cluster.hierarchy import linkage, dendrogram\n",
    "\n",
    "# Calculate the linkage: mergings\n",
    "mergings = linkage(samples, method='single')\n",
    "\n",
    "# Plot the dendrogram\n",
    "dendrogram(mergings, labels=country_names, leaf_rotation=90, leaf_font_size=6 )\n",
    "plt.show()\n"
   ]
  },
  {
   "cell_type": "markdown",
   "metadata": {},
   "source": [
    "# Extracting the cluster labels for a particular height of dendrogram/ distance of clustering"
   ]
  },
  {
   "cell_type": "markdown",
   "metadata": {},
   "source": [
    "### use the fcluster() function to extract the cluster labels for this intermediate clustering, and compare the labels with the grain varieties using a cross-tabulation."
   ]
  },
  {
   "cell_type": "code",
   "execution_count": null,
   "metadata": {},
   "outputs": [],
   "source": [
    "# Perform the necessary imports\n",
    "import pandas as pd\n",
    "from scipy.cluster.hierarchy import fcluster\n",
    "\n",
    "# Use fcluster to extract labels: labels\n",
    "labels = fcluster(mergings, 6, criterion='distance')\n",
    "\n",
    "# Create a DataFrame with labels and varieties as columns: df\n",
    "df = pd.DataFrame({'labels': labels, 'varieties': varieties})\n",
    "\n",
    "# Create crosstab: ct\n",
    "ct = pd.crosstab(df['labels'],df['varieties'])\n",
    "\n",
    "# Display ct\n",
    "print(ct)"
   ]
  },
  {
   "cell_type": "markdown",
   "metadata": {},
   "source": [
    "# t-SNE visualization of grain dataset"
   ]
  },
  {
   "cell_type": "markdown",
   "metadata": {},
   "source": [
    "### TSNE helps to visualize higher dimension datasets in 2D or 3D form"
   ]
  },
  {
   "cell_type": "code",
   "execution_count": null,
   "metadata": {},
   "outputs": [],
   "source": [
    "# Import TSNE\n",
    "from sklearn.manifold import TSNE\n",
    "\n",
    "# Create a TSNE instance: model\n",
    "model = TSNE(learning_rate=200)\n",
    "\n",
    "# Apply fit_transform to samples: tsne_features\n",
    "tsne_features = model.fit_transform(samples)\n",
    "\n",
    "# Select the 0th feature: xs\n",
    "xs = tsne_features[:,0]\n",
    "\n",
    "# Select the 1st feature: ys\n",
    "ys = tsne_features[:,1]\n",
    "\n",
    "# Scatter plot, coloring by variety_numbers\n",
    "plt.scatter(xs,ys,c=variety_numbers)\n",
    "plt.show()\n"
   ]
  },
  {
   "cell_type": "markdown",
   "metadata": {},
   "source": [
    "# A t-SNE map of the stock market"
   ]
  },
  {
   "cell_type": "code",
   "execution_count": null,
   "metadata": {},
   "outputs": [],
   "source": [
    "# Import TSNE\n",
    "from sklearn.manifold import TSNE\n",
    "\n",
    "# Create a TSNE instance: model\n",
    "model = TSNE(learning_rate=50)\n",
    "\n",
    "# Apply fit_transform to normalized_movements: tsne_features\n",
    "tsne_features = model.fit_transform(normalized_movements)\n",
    "\n",
    "# Select the 0th feature: xs\n",
    "xs = tsne_features[:,0]\n",
    "\n",
    "# Select the 1th feature: ys\n",
    "ys = tsne_features[:,1]\n",
    "\n",
    "# Scatter plot\n",
    "plt.scatter(xs,ys,alpha=0.5)\n",
    "\n",
    "# Annotate the points\n",
    "for x, y, company in zip(xs, ys, companies):\n",
    "    plt.annotate(company, (x, y), fontsize=5, alpha=0.75)\n",
    "plt.show()"
   ]
  },
  {
   "cell_type": "code",
   "execution_count": null,
   "metadata": {},
   "outputs": [],
   "source": []
  }
 ],
 "metadata": {
  "kernelspec": {
   "display_name": "Python 3",
   "language": "python",
   "name": "python3"
  },
  "language_info": {
   "codemirror_mode": {
    "name": "ipython",
    "version": 3
   },
   "file_extension": ".py",
   "mimetype": "text/x-python",
   "name": "python",
   "nbconvert_exporter": "python",
   "pygments_lexer": "ipython3",
   "version": "3.7.7"
  }
 },
 "nbformat": 4,
 "nbformat_minor": 4
}
